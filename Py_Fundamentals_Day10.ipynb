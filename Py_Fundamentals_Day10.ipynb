{
 "cells": [
  {
   "cell_type": "code",
   "execution_count": 3,
   "metadata": {},
   "outputs": [],
   "source": [
    "## Object Oriented Programming"
   ]
  },
  {
   "cell_type": "code",
   "execution_count": 12,
   "metadata": {},
   "outputs": [
    {
     "name": "stdout",
     "output_type": "stream",
     "text": [
      "Welcome back!\n",
      "Items have been added to the cart\n",
      "Successfull payment has been recieved\n"
     ]
    }
   ],
   "source": [
    "class Pythoneccomerce():                                     # define the class\n",
    "    def greet_user(self):      \n",
    "        print(\"Welcome back!\")\n",
    "        \n",
    "    def add_to_cart(self):                                   # define the methods\n",
    "        print(\"Items have been added to the cart\")\n",
    "    \n",
    "    def check_out(self):\n",
    "        print(\"Successfull payment has been recieved\")\n",
    "    \n",
    "## Object instantiation\n",
    "abc = Pythoneccomerce()\n",
    "\n",
    "abc.greet_user()\n",
    "abc.add_to_cart()\n",
    "abc.check_out() "
   ]
  },
  {
   "cell_type": "code",
   "execution_count": 13,
   "metadata": {},
   "outputs": [
    {
     "name": "stdout",
     "output_type": "stream",
     "text": [
      "Welcome back!\n",
      "Items have been added to the cart\n",
      "Successfull payment has been recieved\n"
     ]
    }
   ],
   "source": [
    "xyz = Pythoneccomerce()\n",
    "xyz.greet_user()\n",
    "xyz.add_to_cart()\n",
    "xyz.check_out() "
   ]
  }
 ],
 "metadata": {
  "kernelspec": {
   "display_name": "Python 3",
   "language": "python",
   "name": "python3"
  },
  "language_info": {
   "codemirror_mode": {
    "name": "ipython",
    "version": 3
   },
   "file_extension": ".py",
   "mimetype": "text/x-python",
   "name": "python",
   "nbconvert_exporter": "python",
   "pygments_lexer": "ipython3",
   "version": "3.7.3"
  }
 },
 "nbformat": 4,
 "nbformat_minor": 2
}
