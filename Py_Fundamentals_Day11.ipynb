{
 "cells": [
  {
   "cell_type": "code",
   "execution_count": 1,
   "metadata": {},
   "outputs": [],
   "source": [
    "## Constructor"
   ]
  },
  {
   "cell_type": "code",
   "execution_count": 24,
   "metadata": {},
   "outputs": [],
   "source": [
    "class Dog():\n",
    "    \"\"\"\n",
    "    A simple attempt to model a dog\n",
    "    \"\"\"\n",
    "    def __init__(self,name,age):\n",
    "        self.name=name\n",
    "        self.age=age\n",
    "        \n",
    "    def sit(self):\n",
    "        \"\"\"Dog will sit in resposne to a command\"\"\"\n",
    "        print(f\"{self.name} is sitting now!\")\n",
    "        \n",
    "    def roll_over(self):\n",
    "        \"\"\"Dog will rollover in response to a command\"\"\"\n",
    "        print(f\"{self.name} rolled over!\")\n",
    "        \n",
    "    def sleep(self):\n",
    "        \"\"\"Dog will sleep in response to a command\"\"\"\n",
    "        print(f\"{self_name} is now sleeping\")\n",
    "                 "
   ]
  },
  {
   "cell_type": "code",
   "execution_count": 23,
   "metadata": {},
   "outputs": [
    {
     "name": "stdout",
     "output_type": "stream",
     "text": [
      "My dog's name is Bruno\n",
      "My dog is 3 year's old\n"
     ]
    }
   ],
   "source": [
    "my_dog = Dog(\"Bruno\",3)\n",
    "print(f\"My dog's name is {my_dog.name}\")\n",
    "print(f\"My dog is {my_dog.age} year's old\")\n"
   ]
  },
  {
   "cell_type": "code",
   "execution_count": null,
   "metadata": {},
   "outputs": [],
   "source": []
  }
 ],
 "metadata": {
  "kernelspec": {
   "display_name": "Python 3",
   "language": "python",
   "name": "python3"
  },
  "language_info": {
   "codemirror_mode": {
    "name": "ipython",
    "version": 3
   },
   "file_extension": ".py",
   "mimetype": "text/x-python",
   "name": "python",
   "nbconvert_exporter": "python",
   "pygments_lexer": "ipython3",
   "version": "3.7.3"
  }
 },
 "nbformat": 4,
 "nbformat_minor": 2
}
